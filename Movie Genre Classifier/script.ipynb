{
 "cells": [
  {
   "cell_type": "code",
   "execution_count": 1,
   "metadata": {},
   "outputs": [],
   "source": [
    "import numpy as np\n",
    "import pandas as pd\n",
    "import matplotlib.pyplot as plt\n",
    "import seaborn as sns\n",
    "import re\n",
    "from nltk.corpus import stopwords\n",
    "from nltk.tokenize import word_tokenize"
   ]
  },
  {
   "cell_type": "code",
   "execution_count": 2,
   "metadata": {},
   "outputs": [
    {
     "name": "stdout",
     "output_type": "stream",
     "text": [
      "                                title       genre  \\\n",
      "0       Oscar et la dame rose (2009)       drama    \n",
      "1                       Cupid (1997)    thriller    \n",
      "2   Young, Wild and Wonderful (1980)       adult    \n",
      "3              The Secret Sin (1915)       drama    \n",
      "4             The Unrecovered (2007)       drama    \n",
      "\n",
      "                                         description  \n",
      "0   Listening in to a conversation between his do...  \n",
      "1   A brother and sister with a past incestuous r...  \n",
      "2   As the bus empties the students for their fie...  \n",
      "3   To help their unemployed father make ends mee...  \n",
      "4   The film's title refers not only to the un-re...  \n"
     ]
    },
    {
     "data": {
      "text/html": [
       "<div>\n",
       "<style scoped>\n",
       "    .dataframe tbody tr th:only-of-type {\n",
       "        vertical-align: middle;\n",
       "    }\n",
       "\n",
       "    .dataframe tbody tr th {\n",
       "        vertical-align: top;\n",
       "    }\n",
       "\n",
       "    .dataframe thead th {\n",
       "        text-align: right;\n",
       "    }\n",
       "</style>\n",
       "<table border=\"1\" class=\"dataframe\">\n",
       "  <thead>\n",
       "    <tr style=\"text-align: right;\">\n",
       "      <th></th>\n",
       "      <th>title</th>\n",
       "      <th>genre</th>\n",
       "      <th>description</th>\n",
       "    </tr>\n",
       "  </thead>\n",
       "  <tbody>\n",
       "    <tr>\n",
       "      <th>count</th>\n",
       "      <td>54214</td>\n",
       "      <td>54214</td>\n",
       "      <td>54214</td>\n",
       "    </tr>\n",
       "    <tr>\n",
       "      <th>unique</th>\n",
       "      <td>54214</td>\n",
       "      <td>27</td>\n",
       "      <td>54086</td>\n",
       "    </tr>\n",
       "    <tr>\n",
       "      <th>top</th>\n",
       "      <td>Nature's Fury: Storm of the Century (2006)</td>\n",
       "      <td>drama</td>\n",
       "      <td>Grammy - music award of the American academy ...</td>\n",
       "    </tr>\n",
       "    <tr>\n",
       "      <th>freq</th>\n",
       "      <td>1</td>\n",
       "      <td>13613</td>\n",
       "      <td>12</td>\n",
       "    </tr>\n",
       "  </tbody>\n",
       "</table>\n",
       "</div>"
      ],
      "text/plain": [
       "                                               title    genre  \\\n",
       "count                                          54214    54214   \n",
       "unique                                         54214       27   \n",
       "top      Nature's Fury: Storm of the Century (2006)    drama    \n",
       "freq                                               1    13613   \n",
       "\n",
       "                                              description  \n",
       "count                                               54214  \n",
       "unique                                              54086  \n",
       "top      Grammy - music award of the American academy ...  \n",
       "freq                                                   12  "
      ]
     },
     "execution_count": 2,
     "metadata": {},
     "output_type": "execute_result"
    }
   ],
   "source": [
    "train_movie_data = pd.read_csv('../Datasets/Genre Classification Dataset/train_data.txt', header=None, sep=':::', engine='python')\n",
    "header = ['id', 'title', 'genre', 'description']\n",
    "train_movie_data.columns = header\n",
    "train_movie_data.drop(columns='id', inplace=True)\n",
    "print(train_movie_data.head())\n",
    "train_movie_data.describe()"
   ]
  },
  {
   "cell_type": "code",
   "execution_count": 3,
   "metadata": {},
   "outputs": [
    {
     "data": {
      "text/plain": [
       "description\n",
       "Grammy - music award of the American academy of the audio recording, was founded by the American association of sound-recording companies of March, 14, 1958. Grammy is awarded annually as a result of voting by the authorized members of \"Recording Academy\".                                                                                                                                                                                                                                                                                                                                                                                                                                                                                                                                                                                                                                                                                                                                                                                                                                                                                                                                        12\n",
       "A retired professor has returned to his estate to live with his beautiful young wife, Yelena. The estate originally belonged to his first wife, now deceased; her mother and brother still live there and manage the farm. For many years the brother (Uncle Vanya) has sent the farm's proceeds to the professor, while receiving only a small salary himself. Sonya, the professor's daughter, who is about the same age as his new wife, also lives on the estate. The professor is pompous, vain, and irritable. He calls the doctor (Astrov) to treat his gout, only to send him away without seeing him. Astrov is an experienced physician who performs his job conscientiously, but has lost all idealism and spends much of his time drinking. The presence of Yelena introduces a bit of sexual tension into the household. Astrov and Uncle Vanya both fall in love with Yelena; she spurns them both. Meanwhile, Sonya is in love with Astrov, who fails even to notice her. Finally, when the professor announces he wants to sell the estate, Vanya, whose admiration for the man died with his sister, tries to kill him.                                                                11\n",
       "Olga, Masha, and Irina Prozoroff lead lonely and purposeless lives following the death of their father who has commanded the local army post. Olga attempts to find satisfaction in teaching but secretly longs for a home and family. Masha, unhappy with her marriage to a timid schoolmaster, falls hopelessly in love with a married colonel. Irina works in the local telegraph office but longs for gaiety. Their sense of futility is increased by their brother's marriage to Natasha, a coarse peasant girl. She gradually encroaches on the family home until even the private refuge of the sisters is destroyed. They dream of starting a new life in Moscow but are saddled with the practicalities of their quiet existence. Despite their past failures, they resolve to seek some purpose and hope when the army post is withdrawn from the town.                                                                                                                                                                                                                                                                                                                                        8\n",
       "Award of the American academy of cinematographic arts and sciences, from 1940th known as \"Oscar\", - American film award created in 1929 and traditionally handed to the figures of cinematographic art for their contribution to creation of movies.                                                                                                                                                                                                                                                                                                                                                                                                                                                                                                                                                                                                                                                                                                                                                                                                                                                                                                                                                     8\n",
       "Viola and Sebastian are lookalike twins, separated by a shipwreck. Viola lands in Illyria, where she disguises herself like her brother and goes into the service of the Duke Orsino. Orsino sends her to help him woo the Lady Olivia, who doesn't want the Duke, but finds that she likes the new messenger the Duke's sending. Then, of course, Viola's brother shows up, and merry hell breaks loose. Meanwhile, Olivia's uncle and his cohorts are trying to find some way to get back at Olivia's officious majordomo, Malvolio.                                                                                                                                                                                                                                                                                                                                                                                                                                                                                                                                                                                                                                                                   6\n",
       "                                                                                                                                                                                                                                                                                                                                                                                                                                                                                                                                                                                                                                                                                                                                                                                                                                                                                                                                                                                                                                                                                                                                                                                                        ..\n",
       "There is a building called \"SuoMeng Lou\". It is said this building is built for connubial love. The Jiangs do silk business for generations. However, till the early Republic of China, only a widow is left in the family of Jiang, sticking to traditional standards and managing Jiang's family business. As society changes, a Shanghai dancing girl comes to the Jiangs. She is pregnant and wants to marry the eldest son of the Jiangs. Moreover, the second son of the Jiangs, who is far-sighted and wise, is willing to marry a poor girl who does not want to become a member of the Jiangs. In that traditional society, the three women's conflict is inevitable. The dancing girl wants to be a member of the Jiangs, but she is disapproved by Jiangs. So she finds her ways to challenge the dignity of the Jiangs. While that poor girl, who has married herself into the family, challenges the rigid system and traditions from inside. Besides, the conservative widow tries her best to defend traditional standards in the Jiangs. Finally, Jin Feng and Zhou Qing make a great difference on the Jiangs. \"SuoMeng Lou\" opens again, which becomes a new start for the Jiangs.     2\n",
       "The hapless king of a small European nation must put up with a domineering queen, a daughter who wants to elope with her boyfriend, a peasant revolt and a scheming son who wants to be king himself and is plotting to take advantage of the situation.                                                                                                                                                                                                                                                                                                                                                                                                                                                                                                                                                                                                                                                                                                                                                                                                                                                                                                                                                 2\n",
       "Hajj, a rascally beggar on the periphery of the court of Baghdad, schemes to marry his daughter to royalty and to win the heart of the queen of the castle himself.                                                                                                                                                                                                                                                                                                                                                                                                                                                                                                                                                                                                                                                                                                                                                                                                                                                                                                                                                                                                                                      2\n",
       "When the Duke of Vienna takes a mysterious leave of absence and leaves the strict Angelo in charge, things couldn't be worse for Claudio, who is sentenced to death for premarital sex. His sister, Isabella (a nun-in-training), however, is a very persuasive pleader. She goes to Angelo, but instead of freeing her brother, she gets an offer from Angelo to save Claudio's life if Isabella sleeps with him. The only sympathetic friend Isabella has is a priest who, in actuality, is the Duke in disguise...and he has a plan.                                                                                                                                                                                                                                                                                                                                                                                                                                                                                                                                                                                                                                                                  2\n",
       "For more than 20 years, the King of the Ring has been a favorite tradition of the WWE Universe, a tournament to crown wrestling royalty. Past kings have included Bret \"Hit Man\" Hart, Stone Cold Steve Austin, Triple H, Edge, and Brock Lesnar. But the King of the Ring's popularity goes beyond the storied tournament, as for 10 years, King of the Ring was a wildly popular PPV event that produced a nu                                                                                                                                                                                                                                                                                                                                                                                                                                                                                                                                                                                                                                                                                                                                                                                          2\n",
       "Name: count, Length: 76, dtype: int64"
      ]
     },
     "execution_count": 3,
     "metadata": {},
     "output_type": "execute_result"
    }
   ],
   "source": [
    "train_movie_data.loc[train_movie_data.duplicated(subset='description', keep=False), 'description'].value_counts()"
   ]
  },
  {
   "cell_type": "code",
   "execution_count": 4,
   "metadata": {},
   "outputs": [
    {
     "data": {
      "text/plain": [
       "Series([], Name: count, dtype: int64)"
      ]
     },
     "execution_count": 4,
     "metadata": {},
     "output_type": "execute_result"
    }
   ],
   "source": [
    "train_movie_data.drop_duplicates(subset='description', inplace=True)\n",
    "train_movie_data.loc[train_movie_data.duplicated(subset='description', keep=False), 'description'].value_counts()"
   ]
  },
  {
   "cell_type": "code",
   "execution_count": 5,
   "metadata": {},
   "outputs": [
    {
     "name": "stdout",
     "output_type": "stream",
     "text": [
      "                                         description\n",
      "0   Listening in to a conversation between his do...\n",
      "1   A brother and sister with a past incestuous r...\n",
      "2   As the bus empties the students for their fie...\n",
      "3   To help their unemployed father make ends mee...\n",
      "4   The film's title refers not only to the un-re...\n"
     ]
    },
    {
     "data": {
      "text/plain": [
       "0        drama \n",
       "1     thriller \n",
       "2        adult \n",
       "3        drama \n",
       "4        drama \n",
       "Name: genre, dtype: object"
      ]
     },
     "execution_count": 5,
     "metadata": {},
     "output_type": "execute_result"
    }
   ],
   "source": [
    "X_full = train_movie_data.drop(columns=['title', 'genre'])\n",
    "y_full = train_movie_data['genre']\n",
    "print(X_full.head())\n",
    "y_full.head()"
   ]
  },
  {
   "cell_type": "code",
   "execution_count": 6,
   "metadata": {},
   "outputs": [],
   "source": [
    "def clean_text(text: str):\n",
    "    text = text.lower()\n",
    "    text = re.sub(r'http\\S+', '', text)\n",
    "    text = re.sub(r'[\\w\\.-]+@[\\w\\.-]+',\"\",text)\n",
    "    text = re.sub(r'@\\S+','',text)\n",
    "    text = re.sub('[^a-z+]', ' ', text)\n",
    "    text = re.sub('\\s+', ' ', text)\n",
    "    text = re.sub('\\n', ' ', text)\n",
    "    token = text.split()\n",
    "    text = ' '.join([word for word in token if word not in stopwords.words('english')])\n",
    "    return text\n"
   ]
  },
  {
   "cell_type": "code",
   "execution_count": null,
   "metadata": {},
   "outputs": [],
   "source": [
    "X_full['description'] = X_full['description'].apply(clean_text)\n",
    "X_full.to_csv('cleaned_data.csv')\n",
    "X_full"
   ]
  },
  {
   "cell_type": "code",
   "execution_count": 12,
   "metadata": {},
   "outputs": [
    {
     "data": {
      "text/html": [
       "<div>\n",
       "<style scoped>\n",
       "    .dataframe tbody tr th:only-of-type {\n",
       "        vertical-align: middle;\n",
       "    }\n",
       "\n",
       "    .dataframe tbody tr th {\n",
       "        vertical-align: top;\n",
       "    }\n",
       "\n",
       "    .dataframe thead th {\n",
       "        text-align: right;\n",
       "    }\n",
       "</style>\n",
       "<table border=\"1\" class=\"dataframe\">\n",
       "  <thead>\n",
       "    <tr style=\"text-align: right;\">\n",
       "      <th></th>\n",
       "      <th>description</th>\n",
       "    </tr>\n",
       "  </thead>\n",
       "  <tbody>\n",
       "    <tr>\n",
       "      <th>0</th>\n",
       "      <td>listening conversation doctor parents year old...</td>\n",
       "    </tr>\n",
       "    <tr>\n",
       "      <th>1</th>\n",
       "      <td>brother sister past incestuous relationship cu...</td>\n",
       "    </tr>\n",
       "    <tr>\n",
       "      <th>2</th>\n",
       "      <td>bus empties students field trip museum natural...</td>\n",
       "    </tr>\n",
       "    <tr>\n",
       "      <th>3</th>\n",
       "      <td>help unemployed father make ends meet edith tw...</td>\n",
       "    </tr>\n",
       "    <tr>\n",
       "      <th>4</th>\n",
       "      <td>film title refers un recovered bodies ground z...</td>\n",
       "    </tr>\n",
       "  </tbody>\n",
       "</table>\n",
       "</div>"
      ],
      "text/plain": [
       "                                         description\n",
       "0  listening conversation doctor parents year old...\n",
       "1  brother sister past incestuous relationship cu...\n",
       "2  bus empties students field trip museum natural...\n",
       "3  help unemployed father make ends meet edith tw...\n",
       "4  film title refers un recovered bodies ground z..."
      ]
     },
     "execution_count": 12,
     "metadata": {},
     "output_type": "execute_result"
    }
   ],
   "source": [
    "X_full = pd.read_csv('cleaned_data.csv', index_col=0)\n",
    "X_full.head()"
   ]
  },
  {
   "cell_type": "code",
   "execution_count": 13,
   "metadata": {},
   "outputs": [
    {
     "data": {
      "text/plain": [
       "(                                             description\n",
       " 43932  islamic revolution iran brought twenty five hu...\n",
       " 29122  deception dallas follows trail intrigue decept...\n",
       " 41318  experienced perhaps greatest crimes humanity w...\n",
       " 38106  maheen sana askari faces many challenges life ...\n",
       " 45113  film made italian television series eight epis...\n",
       " ...                                                  ...\n",
       " 25587  small rural town live akheela family consistin...\n",
       " 48157  end anton krastev dop wife diana separated iro...\n",
       " 11520  married couple seeking break hectic lives esca...\n",
       " 1688   young people spend average hours day cell phon...\n",
       " 5996   euphoria last relative safety life raft namele...\n",
       " \n",
       " [48677 rows x 1 columns],\n",
       "                                              description\n",
       " 53640  suspended teaching job horrendous behavior out...\n",
       " 582    slightly used comedy takes place battle ground...\n",
       " 9118   magician competes international magic competit...\n",
       " 3817   mountains montenegro people lived strict draco...\n",
       " 42050  story follows reid morrison musician tries esc...\n",
       " ...                                                  ...\n",
       " 6585   television comedienne ulrika jonsson qv presen...\n",
       " 31870  based emmy award winning preschool series movi...\n",
       " 48032  french algeria wwii three daughters wealthy se...\n",
       " 15989  year old rebecca lives large creepy house beli...\n",
       " 11920  crossing line contemporary political thriller ...\n",
       " \n",
       " [5409 rows x 1 columns],\n",
       " 43932           short \n",
       " 29122           drama \n",
       " 41318     documentary \n",
       " 38106           drama \n",
       " 45113          comedy \n",
       "              ...      \n",
       " 25587          comedy \n",
       " 48157           drama \n",
       " 11520          comedy \n",
       " 1688      documentary \n",
       " 5996      documentary \n",
       " Name: genre, Length: 48677, dtype: object,\n",
       " 53640         comedy \n",
       " 582           comedy \n",
       " 9118          comedy \n",
       " 3817           drama \n",
       " 42050          drama \n",
       "              ...     \n",
       " 6585      reality-tv \n",
       " 31870      animation \n",
       " 48032          drama \n",
       " 15989          short \n",
       " 11920          drama \n",
       " Name: genre, Length: 5409, dtype: object)"
      ]
     },
     "execution_count": 13,
     "metadata": {},
     "output_type": "execute_result"
    }
   ],
   "source": [
    "from sklearn.model_selection import train_test_split\n",
    "X_train, X_val, y_train, y_val = train_test_split(X_full, y_full, test_size=0.1, random_state=3)\n",
    "X_train, X_val,y_train, y_val"
   ]
  },
  {
   "cell_type": "code",
   "execution_count": 14,
   "metadata": {},
   "outputs": [
    {
     "data": {
      "text/plain": [
       "(<Compressed Sparse Row sparse matrix of dtype 'float64'\n",
       " \twith 2037400 stored elements and shape (48677, 10000)>,\n",
       " <Compressed Sparse Row sparse matrix of dtype 'float64'\n",
       " \twith 224338 stored elements and shape (5409, 10000)>)"
      ]
     },
     "execution_count": 14,
     "metadata": {},
     "output_type": "execute_result"
    }
   ],
   "source": [
    "from sklearn.feature_extraction.text import TfidfVectorizer\n",
    "tfidf = TfidfVectorizer(max_features=10000)\n",
    "X_train = tfidf.fit_transform(X_train['description'])\n",
    "X_val = tfidf.transform(X_val['description'])\n",
    "X_train, X_val"
   ]
  },
  {
   "cell_type": "code",
   "execution_count": 15,
   "metadata": {},
   "outputs": [
    {
     "data": {
      "text/plain": [
       "(array([21,  8,  7, ...,  5,  7,  7]), array([ 5,  5,  5, ...,  8, 21,  8]))"
      ]
     },
     "execution_count": 15,
     "metadata": {},
     "output_type": "execute_result"
    }
   ],
   "source": [
    "from sklearn.preprocessing import LabelEncoder\n",
    "le = LabelEncoder()\n",
    "y_train = le.fit_transform(y_train)\n",
    "y_val = le.transform(y_val)\n",
    "y_train, y_val"
   ]
  },
  {
   "cell_type": "code",
   "execution_count": null,
   "metadata": {},
   "outputs": [],
   "source": [
    "from sklearn.svm import SVC\n",
    "svc = SVC()\n",
    "svc.fit(X_train, y_train)"
   ]
  }
 ],
 "metadata": {
  "kernelspec": {
   "display_name": "_venv",
   "language": "python",
   "name": "python3"
  },
  "language_info": {
   "codemirror_mode": {
    "name": "ipython",
    "version": 3
   },
   "file_extension": ".py",
   "mimetype": "text/x-python",
   "name": "python",
   "nbconvert_exporter": "python",
   "pygments_lexer": "ipython3",
   "version": "3.11.2"
  }
 },
 "nbformat": 4,
 "nbformat_minor": 2
}
